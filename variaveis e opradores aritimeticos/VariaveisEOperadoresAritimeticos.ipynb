{
  "nbformat": 4,
  "nbformat_minor": 0,
  "metadata": {
    "colab": {
      "provenance": [],
      "collapsed_sections": [
        "Hgaxr97RKoW4",
        "2eO93Pi9KzP3",
        "zn6cSTFMK4rQ"
      ],
      "authorship_tag": "ABX9TyPAdQ8uP2NDoCfEVkrIuGRL",
      "include_colab_link": true
    },
    "kernelspec": {
      "name": "python3",
      "display_name": "Python 3"
    },
    "language_info": {
      "name": "python"
    }
  },
  "cells": [
    {
      "cell_type": "markdown",
      "metadata": {
        "id": "view-in-github",
        "colab_type": "text"
      },
      "source": [
        "<a href=\"https://colab.research.google.com/github/NycolasFreitasL/logicaprogramacaopython/blob/main/variaveis%20e%20opradores%20aritimeticos/VariaveisEOperadoresAritimeticos.ipynb\" target=\"_parent\"><img src=\"https://colab.research.google.com/assets/colab-badge.svg\" alt=\"Open In Colab\"/></a>"
      ]
    },
    {
      "cell_type": "markdown",
      "source": [
        "#criando Variaveis\n"
      ],
      "metadata": {
        "id": "cAwXfgEYBfEI"
      }
    },
    {
      "cell_type": "markdown",
      "source": [
        "### área e perimetro do retangulo"
      ],
      "metadata": {
        "id": "Hgaxr97RKoW4"
      }
    },
    {
      "cell_type": "code",
      "execution_count": null,
      "metadata": {
        "id": "Pphoap_QBAOt"
      },
      "outputs": [],
      "source": [
        "espace1 = int(input(\"qual a base do seu retangulo? \"))\n",
        "espace2 =int(input(\"qual a altura do seu retangulo? ?\"))\n",
        "pedido = str(input(\"oque deseja descobrir?\" ))\n",
        "\n",
        "if pedido == \"área\": print( espace1 * espace2)\n",
        "elif pedido ==  \"perimetro\": print(\"a soma dos seus numeros é: \",espace1+espace2+espace1+espace2)\n",
        "else :\"valor desconhecido\""
      ]
    },
    {
      "cell_type": "markdown",
      "source": [
        "### área do quadrado"
      ],
      "metadata": {
        "id": "2eO93Pi9KzP3"
      }
    },
    {
      "cell_type": "code",
      "source": [
        "quadrado = int(input(\"qual o lado do seu quadrado ?\"))\n",
        "print(\"a area do quadrado é: \",quadrado*quadrado)\n"
      ],
      "metadata": {
        "id": "ej5GeBxCEJFI"
      },
      "execution_count": null,
      "outputs": []
    },
    {
      "cell_type": "markdown",
      "source": [
        "### área do triangulo"
      ],
      "metadata": {
        "id": "zn6cSTFMK4rQ"
      }
    },
    {
      "cell_type": "code",
      "source": [
        "baset =int(input(\"qual a base do seu triangulo? \"))\n",
        "alturat=int(input(\"qual a altura do seu triangulo? \"))\n",
        "print(\"a área do seu triangulo é: \",baset*alturat/2 )\n"
      ],
      "metadata": {
        "id": "K-WQcYlvFUuo"
      },
      "execution_count": null,
      "outputs": []
    },
    {
      "cell_type": "markdown",
      "source": [
        "### área do trapézio"
      ],
      "metadata": {
        "id": "nq9w45NHL3F4"
      }
    },
    {
      "cell_type": "code",
      "source": [
        "altura2=float(input(\"qual a altura do seu trapézio? \"))\n",
        "basemai= float(input(\"qual a base maior do seu trapézio? \"))\n",
        "basemen= float(input(\"qual a base menor do seu trapézio? \"))\n",
        "basem3 = basemen + basemai\n",
        "print(\"a área do seu trapezie é: \",basem3*altura2/2)"
      ],
      "metadata": {
        "id": "9_W1YyI4L_BX"
      },
      "execution_count": null,
      "outputs": []
    },
    {
      "cell_type": "markdown",
      "source": [],
      "metadata": {
        "id": "9eGWGI2lVOKp"
      }
    },
    {
      "cell_type": "markdown",
      "source": [
        "### brincar de pedreiro"
      ],
      "metadata": {
        "id": "5LzTfuedQ7-o"
      }
    },
    {
      "cell_type": "code",
      "source": [
        "altazul= float(input(\"qual a aultura do seu azulejo? \"))\n",
        "largazul= float(input(\"qual a largura do seu azulejo? \"))\n",
        "areazul= altazul * largazul\n",
        "print(\"a área do seu azulejo é: \", areazul,\"centimetros\")\n",
        "altpar= float(input(\"qual a altura da sua parde? \"))\n",
        "largpar= float(input(\"qual a largura da sua parede? \"))\n",
        "areapar = altpar * largpar\n",
        "print(\"a area da sua parede é: \", areapar, \"metros\")\n",
        "conversao = areazul/100\n",
        "decisao = str(input(\"deseja descobrir a quantidade necessária de azulejos? \"))\n",
        "if decisao == \"sim\":print(\"você vai precisar de: \",areapar/conversao,\"azulejos\")\n",
        "else : print(\"código encerrado\")\n"
      ],
      "metadata": {
        "id": "lidlnAkWRAQY"
      },
      "execution_count": null,
      "outputs": []
    },
    {
      "cell_type": "markdown",
      "source": [
        "## raiz quadrada"
      ],
      "metadata": {
        "id": "I9rspI0k_MRf"
      }
    },
    {
      "cell_type": "code",
      "source": [
        "n1 = int(input(\"digite aqui seu numero: \"))\n",
        "resultado = n1**0.5\n",
        "print(resultado)"
      ],
      "metadata": {
        "id": "B0gDN2UZ_YxJ"
      },
      "execution_count": null,
      "outputs": []
    }
  ]
}